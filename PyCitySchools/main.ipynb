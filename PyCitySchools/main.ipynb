{
 "cells": [
  {
   "cell_type": "code",
   "execution_count": 142,
   "metadata": {},
   "outputs": [],
   "source": [
    "# Import dependencies \n",
    "import pandas as pd"
   ]
  },
  {
   "cell_type": "code",
   "execution_count": 161,
   "metadata": {},
   "outputs": [],
   "source": [
    "# Set up and read schools files\n",
    "school_path = \"Resources/schools_complete.csv\"\n",
    "school_df = pd.read_csv(school_path)\n",
    "\n",
    "student_path = \"Resources/students_complete.csv\"\n",
    "student_df = pd.read_csv(student_path)"
   ]
  },
  {
   "cell_type": "code",
   "execution_count": 162,
   "metadata": {},
   "outputs": [],
   "source": [
    "# Combine the data into a single dataset.  \n",
    "school_data_complete = pd.merge(student_df, school_df, how=\"left\", on=[\"school_name\", \"school_name\"])"
   ]
  },
  {
   "cell_type": "code",
   "execution_count": 163,
   "metadata": {},
   "outputs": [],
   "source": [
    "# Make a district summary table\n",
    "# Total schools\n",
    "a = len(school_data_complete[\"school_name\"].unique())"
   ]
  },
  {
   "cell_type": "code",
   "execution_count": 164,
   "metadata": {},
   "outputs": [],
   "source": [
    "# Total students\n",
    "stud = len(school_data_complete[\"student_name\"])\n",
    "b = (\"{:,}\".format(stud))\n",
    "# Code below shows the repeat names but they are different people with the same name (organized in the student_name column)\n",
    "# pd.concat(g for _, g in school_data_complete.groupby(\"student_name\") if len(g) > 1)"
   ]
  },
  {
   "cell_type": "code",
   "execution_count": 165,
   "metadata": {},
   "outputs": [],
   "source": [
    "# Total budget\n",
    "bud = school_df[\"budget\"].sum()\n",
    "c = (\"${:,.2f}\".format(bud))\n",
    "#I could also groupby school name to then get rid of repeat budgets but then that woud throw off the student names column"
   ]
  },
  {
   "cell_type": "code",
   "execution_count": 166,
   "metadata": {},
   "outputs": [],
   "source": [
    "# Average math score\n",
    "avg_math = school_data_complete[\"math_score\"].mean()\n",
    "d = round(avg_math, 1)"
   ]
  },
  {
   "cell_type": "code",
   "execution_count": 167,
   "metadata": {},
   "outputs": [],
   "source": [
    "# Average reading score\n",
    "avg_read = school_data_complete[\"reading_score\"].mean()\n",
    "e = round(avg_read,  1)"
   ]
  },
  {
   "cell_type": "code",
   "execution_count": 168,
   "metadata": {},
   "outputs": [],
   "source": [
    "# % passing math\n",
    "math_percent = (len(school_data_complete[school_data_complete.math_score >= 70])/stud)*100\n",
    "f = round(math_percent, 1)"
   ]
  },
  {
   "cell_type": "code",
   "execution_count": 169,
   "metadata": {},
   "outputs": [],
   "source": [
    "# % passing reading\n",
    "read_percent = (len(school_data_complete[school_data_complete.reading_score >= 70])/stud)*100\n",
    "g = round(read_percent, 1)"
   ]
  },
  {
   "cell_type": "code",
   "execution_count": 170,
   "metadata": {},
   "outputs": [],
   "source": [
    "# % overall passing (might have to use loc, idk yet)\n",
    "overall_pass = school_data_complete[(school_data_complete['math_score']>= 70) & (school_data_complete['reading_score'] >= 70)]\n",
    "h = round((len(overall_pass)/stud)*100, 1)"
   ]
  },
  {
   "cell_type": "code",
   "execution_count": 171,
   "metadata": {},
   "outputs": [
    {
     "data": {
      "text/html": [
       "<div>\n",
       "<style scoped>\n",
       "    .dataframe tbody tr th:only-of-type {\n",
       "        vertical-align: middle;\n",
       "    }\n",
       "\n",
       "    .dataframe tbody tr th {\n",
       "        vertical-align: top;\n",
       "    }\n",
       "\n",
       "    .dataframe thead th {\n",
       "        text-align: right;\n",
       "    }\n",
       "</style>\n",
       "<table border=\"1\" class=\"dataframe\">\n",
       "  <thead>\n",
       "    <tr style=\"text-align: right;\">\n",
       "      <th></th>\n",
       "      <th>Total Schools</th>\n",
       "      <th>Total Students</th>\n",
       "      <th>Total Budget</th>\n",
       "      <th>Average Math Score</th>\n",
       "      <th>Average Reading Score</th>\n",
       "      <th>% Passing Math</th>\n",
       "      <th>% Passing Reading</th>\n",
       "      <th>% Overall Passing</th>\n",
       "    </tr>\n",
       "  </thead>\n",
       "  <tbody>\n",
       "    <tr>\n",
       "      <th>0</th>\n",
       "      <td>15</td>\n",
       "      <td>39,170</td>\n",
       "      <td>$24,649,428.00</td>\n",
       "      <td>79.0</td>\n",
       "      <td>81.9</td>\n",
       "      <td>75.0</td>\n",
       "      <td>85.8</td>\n",
       "      <td>65.2</td>\n",
       "    </tr>\n",
       "  </tbody>\n",
       "</table>\n",
       "</div>"
      ],
      "text/plain": [
       "   Total Schools Total Students    Total Budget  Average Math Score  \\\n",
       "0             15         39,170  $24,649,428.00                79.0   \n",
       "\n",
       "   Average Reading Score  % Passing Math  % Passing Reading  % Overall Passing  \n",
       "0                   81.9            75.0               85.8               65.2  "
      ]
     },
     "execution_count": 171,
     "metadata": {},
     "output_type": "execute_result"
    }
   ],
   "source": [
    "district_summary_df = pd.DataFrame({\"Total Schools\": [a],\n",
    "                           \"Total Students\": [b],\n",
    "                           \"Total Budget\": [c],\n",
    "                           \"Average Math Score\": [d],\n",
    "                           \"Average Reading Score\": [e],\n",
    "                           \"% Passing Math\": [f],\n",
    "                            \"% Passing Reading\": [g],\n",
    "                            \"% Overall Passing\": [h]})\n",
    "\n",
    "district_summary_df"
   ]
  }
 ],
 "metadata": {
  "kernelspec": {
   "display_name": "Python 3",
   "language": "python",
   "name": "python3"
  },
  "language_info": {
   "codemirror_mode": {
    "name": "ipython",
    "version": 3
   },
   "file_extension": ".py",
   "mimetype": "text/x-python",
   "name": "python",
   "nbconvert_exporter": "python",
   "pygments_lexer": "ipython3",
   "version": "3.8.3"
  }
 },
 "nbformat": 4,
 "nbformat_minor": 4
}
